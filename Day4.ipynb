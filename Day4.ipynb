{
  "nbformat": 4,
  "nbformat_minor": 0,
  "metadata": {
    "colab": {
      "name": "day4.ipynb",
      "provenance": [],
      "include_colab_link": true
    },
    "kernelspec": {
      "name": "python3",
      "display_name": "Python 3"
    }
  },
  "cells": [
    {
      "cell_type": "markdown",
      "metadata": {
        "id": "view-in-github",
        "colab_type": "text"
      },
      "source": [
        "<a href=\"https://colab.research.google.com/github/Meghanap18/INTERNSOFTcodefiles/blob/main/Day4.ipynb\" target=\"_parent\"><img src=\"https://colab.research.google.com/assets/colab-badge.svg\" alt=\"Open In Colab\"/></a>"
      ]
    },
    {
      "cell_type": "markdown",
      "metadata": {
        "id": "1_dIEdHQGcge"
      },
      "source": [
        "CLASS"
      ]
    },
    {
      "cell_type": "code",
      "metadata": {
        "colab": {
          "base_uri": "https://localhost:8080/"
        },
        "id": "uroEmfpU9vFY",
        "outputId": "f04fb447-abb3-48a2-809d-d3b09989f0c4"
      },
      "source": [
        "class Person:\r\n",
        "    pass\r\n",
        "\r\n",
        "john_doe = Person()\r\n",
        "john_doe.name = \"Alec\"\r\n",
        "john_doe.surname = \"Baldwin\"\r\n",
        "john_doe.year_of_birth = 1958\r\n",
        "\r\n",
        "\r\n",
        "print(john_doe)\r\n",
        "print(\"%s %s was born in %d.\" %\r\n",
        "      (john_doe.name, john_doe.surname, john_doe.year_of_birth))"
      ],
      "execution_count": null,
      "outputs": [
        {
          "output_type": "stream",
          "text": [
            "<__main__.Person object at 0x7f121249fc18>\n",
            "Alec Baldwin was born in 1958.\n"
          ],
          "name": "stdout"
        }
      ]
    },
    {
      "cell_type": "code",
      "metadata": {
        "id": "7b6fYeamF4zg"
      },
      "source": [
        "class Person:\r\n",
        "    def __init__(self, name, surname, year_of_birth):\r\n",
        "        self.name = name\r\n",
        "        self.surname = surname\r\n",
        "        self.year_of_birth = year_of_birth"
      ],
      "execution_count": null,
      "outputs": []
    },
    {
      "cell_type": "code",
      "metadata": {
        "colab": {
          "base_uri": "https://localhost:8080/"
        },
        "id": "iAy048mNGKBH",
        "outputId": "0fe6ecf4-6339-4562-d7a1-1bae94434392"
      },
      "source": [
        "alec = Person(\"Alec\", \"Baldwin\", 1958)\r\n",
        "print(alec)\r\n",
        "print(\"%s %s was born in %d\"% (alec.name,alec.surname,alec.year_of_birth))"
      ],
      "execution_count": null,
      "outputs": [
        {
          "output_type": "stream",
          "text": [
            "<__main__.Person object at 0x7f12124b1240>\n",
            "Alec Baldwin was born in 1958\n"
          ],
          "name": "stdout"
        }
      ]
    },
    {
      "cell_type": "markdown",
      "metadata": {
        "id": "f1F-T9PfGfhY"
      },
      "source": [
        "METHODS"
      ]
    },
    {
      "cell_type": "code",
      "metadata": {
        "colab": {
          "base_uri": "https://localhost:8080/"
        },
        "id": "xip-aov9GTCM",
        "outputId": "35f27769-9b52-4a37-f796-cac8f5e59df1"
      },
      "source": [
        "class Person:\r\n",
        "    def __init__(self, name, surname, year_of_birth):\r\n",
        "        self.name = name\r\n",
        "        self.surname = surname\r\n",
        "        self.year_of_birth = year_of_birth\r\n",
        "    \r\n",
        "    def age(self, current_year):\r\n",
        "        return current_year - self.year_of_birth\r\n",
        "    \r\n",
        "    def __str__(self):\r\n",
        "        return \"%s %s was born in %d .\" % (self.name, self.surname, self.year_of_birth)\r\n",
        "    \r\n",
        "alec = Person(\"Alec\", \"Baldwin\", 1958)\r\n",
        "print(alec)\r\n",
        "print(alec.age(2019))\r\n"
      ],
      "execution_count": null,
      "outputs": [
        {
          "output_type": "stream",
          "text": [
            "Alec Baldwin was born in 1958 .\n",
            "61\n"
          ],
          "name": "stdout"
        }
      ]
    },
    {
      "cell_type": "markdown",
      "metadata": {
        "id": "8CVY6jdgGjpx"
      },
      "source": [
        "INHERITANCE"
      ]
    },
    {
      "cell_type": "code",
      "metadata": {
        "colab": {
          "base_uri": "https://localhost:8080/"
        },
        "id": "Ou-VfPDjGpfH",
        "outputId": "ece93f53-5147-4a1e-b6d9-9d5e77307eab"
      },
      "source": [
        "class Student(Person):\r\n",
        "    def __init__(self, student_id, *args, **kwargs):\r\n",
        "        super(Student, self).__init__(*args, **kwargs)\r\n",
        "        self._student_id = student_id\r\n",
        "        \r\n",
        "charlie = Student(1, 'Charlie', 'Brown', 2006)\r\n",
        "print(charlie)\r\n",
        "print(type(charlie))\r\n",
        "print(isinstance(charlie, Person))\r\n",
        "print(isinstance(charlie, object))"
      ],
      "execution_count": null,
      "outputs": [
        {
          "output_type": "stream",
          "text": [
            "Charlie Brown was born in 2006 .\n",
            "<class '__main__.Student'>\n",
            "True\n",
            "True\n"
          ],
          "name": "stdout"
        }
      ]
    },
    {
      "cell_type": "markdown",
      "metadata": {
        "id": "4wT7v3jTH0J8"
      },
      "source": [
        "OVERRIDDING METHODS"
      ]
    },
    {
      "cell_type": "code",
      "metadata": {
        "colab": {
          "base_uri": "https://localhost:8080/"
        },
        "id": "L654VlWuHzvv",
        "outputId": "cb54a4cc-bc93-4737-da8d-6db6eedcf6db"
      },
      "source": [
        "class Student(Person):\r\n",
        "    def __init__(self, student_id, *args, **kwargs):\r\n",
        "        super(Student, self).__init__(*args, **kwargs)\r\n",
        "        self._student_id = student_id\r\n",
        "        \r\n",
        "    def __str__(self):\r\n",
        "        return super(Student, self).__str__() + \" And has ID: %d\" % self._student_id\r\n",
        "        \r\n",
        "charlie = Student(1, 'Charlie', 'Brown', 2006)\r\n",
        "print(charlie)\r\n"
      ],
      "execution_count": null,
      "outputs": [
        {
          "output_type": "stream",
          "text": [
            "Charlie Brown was born in 2006 . And has ID: 1\n"
          ],
          "name": "stdout"
        }
      ]
    },
    {
      "cell_type": "markdown",
      "metadata": {
        "id": "4Wt48moeH65g"
      },
      "source": [
        "Polymorphism and DuckTyping"
      ]
    },
    {
      "cell_type": "code",
      "metadata": {
        "colab": {
          "base_uri": "https://localhost:8080/"
        },
        "id": "nGuUvh1qH91T",
        "outputId": "385fc8f1-44cb-443d-fc37-037c1f78ff8e"
      },
      "source": [
        "def summer(a, b):\r\n",
        "    return a + b\r\n",
        "\r\n",
        "print(summer(1, 1))\r\n",
        "print(summer([\"a\", \"b\", \"c\"], [\"d\", \"e\"]))\r\n",
        "print(summer(\"abra\", \"cadabra\"))"
      ],
      "execution_count": null,
      "outputs": [
        {
          "output_type": "stream",
          "text": [
            "2\n",
            "['a', 'b', 'c', 'd', 'e']\n",
            "abracadabra\n"
          ],
          "name": "stdout"
        }
      ]
    },
    {
      "cell_type": "markdown",
      "metadata": {
        "id": "8fxhkOMuIfTX"
      },
      "source": [
        "iPython Writing a File"
      ]
    },
    {
      "cell_type": "code",
      "metadata": {
        "colab": {
          "base_uri": "https://localhost:8080/"
        },
        "id": "em4iQWZTIgDo",
        "outputId": "f4eb65d3-ed62-4fa7-f2c0-91a8f3b181bd"
      },
      "source": [
        "%%writefile superman.txt\r\n",
        "Hello, this is a quick superman test file"
      ],
      "execution_count": null,
      "outputs": [
        {
          "output_type": "stream",
          "text": [
            "Writing superman.txt\n"
          ],
          "name": "stdout"
        }
      ]
    },
    {
      "cell_type": "markdown",
      "metadata": {
        "id": "YylLL3RJItXr"
      },
      "source": [
        "Python Opening a file"
      ]
    },
    {
      "cell_type": "code",
      "metadata": {
        "id": "wQhucD7BIuQM"
      },
      "source": [
        "# Open the text.txt we made earlier\r\n",
        "my_file = open('superman.txt')"
      ],
      "execution_count": null,
      "outputs": []
    },
    {
      "cell_type": "code",
      "metadata": {
        "colab": {
          "base_uri": "https://localhost:8080/",
          "height": 35
        },
        "id": "godFPoLFIx12",
        "outputId": "bb510a95-0afb-4e65-d24b-dc9305922849"
      },
      "source": [
        "# We can now read the file\r\n",
        "my_file.read()"
      ],
      "execution_count": null,
      "outputs": [
        {
          "output_type": "execute_result",
          "data": {
            "application/vnd.google.colaboratory.intrinsic+json": {
              "type": "string"
            },
            "text/plain": [
              "'Hello, this is a quick superman test file'"
            ]
          },
          "metadata": {
            "tags": []
          },
          "execution_count": 10
        }
      ]
    },
    {
      "cell_type": "code",
      "metadata": {
        "colab": {
          "base_uri": "https://localhost:8080/",
          "height": 35
        },
        "id": "5ANgNwGfI2mM",
        "outputId": "1b45e0bf-40c2-479e-b6c0-f0200e961d24"
      },
      "source": [
        "# But what happens if we try to read it again?\r\n",
        "my_file.read()"
      ],
      "execution_count": null,
      "outputs": [
        {
          "output_type": "execute_result",
          "data": {
            "application/vnd.google.colaboratory.intrinsic+json": {
              "type": "string"
            },
            "text/plain": [
              "''"
            ]
          },
          "metadata": {
            "tags": []
          },
          "execution_count": 11
        }
      ]
    },
    {
      "cell_type": "code",
      "metadata": {
        "colab": {
          "base_uri": "https://localhost:8080/"
        },
        "id": "UNDNlpmGI7rF",
        "outputId": "cc8aa685-2746-4f9d-b95c-ebf8fb8ce5f7"
      },
      "source": [
        "# Seek to the start of file (index 0)\r\n",
        "my_file.seek(0)"
      ],
      "execution_count": null,
      "outputs": [
        {
          "output_type": "execute_result",
          "data": {
            "text/plain": [
              "0"
            ]
          },
          "metadata": {
            "tags": []
          },
          "execution_count": 12
        }
      ]
    },
    {
      "cell_type": "code",
      "metadata": {
        "colab": {
          "base_uri": "https://localhost:8080/",
          "height": 35
        },
        "id": "mFhU_eC8I-4r",
        "outputId": "e4a3ab35-e6c9-427d-f629-737327199a91"
      },
      "source": [
        "# Now read again\r\n",
        "my_file.read()"
      ],
      "execution_count": null,
      "outputs": [
        {
          "output_type": "execute_result",
          "data": {
            "application/vnd.google.colaboratory.intrinsic+json": {
              "type": "string"
            },
            "text/plain": [
              "'Hello, this is a quick superman test file'"
            ]
          },
          "metadata": {
            "tags": []
          },
          "execution_count": 13
        }
      ]
    },
    {
      "cell_type": "code",
      "metadata": {
        "colab": {
          "base_uri": "https://localhost:8080/"
        },
        "id": "CrH3gMj8JC0a",
        "outputId": "d5b12d2a-9e29-4598-c741-020f2e970c45"
      },
      "source": [
        "# Seek to the start of file (index 0)\r\n",
        "my_file.seek(0)"
      ],
      "execution_count": null,
      "outputs": [
        {
          "output_type": "execute_result",
          "data": {
            "text/plain": [
              "0"
            ]
          },
          "metadata": {
            "tags": []
          },
          "execution_count": 14
        }
      ]
    },
    {
      "cell_type": "code",
      "metadata": {
        "colab": {
          "base_uri": "https://localhost:8080/"
        },
        "id": "JNuwuUAVJE09",
        "outputId": "68b28cde-99b6-4e1e-ae1f-6a13d2088799"
      },
      "source": [
        "# Readlines returns a list of the lines in the file.\r\n",
        "my_file.readlines()"
      ],
      "execution_count": null,
      "outputs": [
        {
          "output_type": "execute_result",
          "data": {
            "text/plain": [
              "['Hello, this is a quick superman test file']"
            ]
          },
          "metadata": {
            "tags": []
          },
          "execution_count": 15
        }
      ]
    },
    {
      "cell_type": "markdown",
      "metadata": {
        "id": "TFToJWN6JK2l"
      },
      "source": [
        "Writing to a File"
      ]
    },
    {
      "cell_type": "code",
      "metadata": {
        "id": "etvMHHFlJJMC"
      },
      "source": [
        "# Add the second argument to the function, 'w' which stands for write\r\n",
        "my_file = open('superman.txt','w+')"
      ],
      "execution_count": null,
      "outputs": []
    },
    {
      "cell_type": "code",
      "metadata": {
        "colab": {
          "base_uri": "https://localhost:8080/"
        },
        "id": "R4j2VgFKJQ-p",
        "outputId": "fc8f8299-065b-4703-e951-46d73b605da9"
      },
      "source": [
        "# Write to the file\r\n",
        "my_file.write('This is a new line')"
      ],
      "execution_count": null,
      "outputs": [
        {
          "output_type": "execute_result",
          "data": {
            "text/plain": [
              "18"
            ]
          },
          "metadata": {
            "tags": []
          },
          "execution_count": 17
        }
      ]
    },
    {
      "cell_type": "code",
      "metadata": {
        "colab": {
          "base_uri": "https://localhost:8080/"
        },
        "id": "q-c6y2mpJTxI",
        "outputId": "984e7d22-b77a-4f88-a4d2-2ec8b758796c"
      },
      "source": [
        "# Seek to the start of file (index 0)\r\n",
        "my_file.seek(0)"
      ],
      "execution_count": null,
      "outputs": [
        {
          "output_type": "execute_result",
          "data": {
            "text/plain": [
              "0"
            ]
          },
          "metadata": {
            "tags": []
          },
          "execution_count": 18
        }
      ]
    },
    {
      "cell_type": "code",
      "metadata": {
        "colab": {
          "base_uri": "https://localhost:8080/",
          "height": 35
        },
        "id": "hXzNysRfJXk1",
        "outputId": "1d350114-487f-451c-e4dd-d6c7b394c740"
      },
      "source": [
        "# Read the file\r\n",
        "my_file.read()"
      ],
      "execution_count": null,
      "outputs": [
        {
          "output_type": "execute_result",
          "data": {
            "application/vnd.google.colaboratory.intrinsic+json": {
              "type": "string"
            },
            "text/plain": [
              "'This is a new line'"
            ]
          },
          "metadata": {
            "tags": []
          },
          "execution_count": 19
        }
      ]
    },
    {
      "cell_type": "markdown",
      "metadata": {
        "id": "NRhbPN2wJas6"
      },
      "source": [
        "Iterating through a File"
      ]
    },
    {
      "cell_type": "code",
      "metadata": {
        "colab": {
          "base_uri": "https://localhost:8080/"
        },
        "id": "o4zk1GicJcET",
        "outputId": "6824d4c7-6222-41fb-ab6e-64a238281334"
      },
      "source": [
        "%%writefile test.txt\r\n",
        "First Line\r\n",
        "Second Line"
      ],
      "execution_count": null,
      "outputs": [
        {
          "output_type": "stream",
          "text": [
            "Writing test.txt\n"
          ],
          "name": "stdout"
        }
      ]
    },
    {
      "cell_type": "code",
      "metadata": {
        "colab": {
          "base_uri": "https://localhost:8080/"
        },
        "id": "yEKCSpIRJhGV",
        "outputId": "c144fc01-ba5d-4e92-9d35-673415460fff"
      },
      "source": [
        "for line in open('test.txt'):\r\n",
        "    print(line)"
      ],
      "execution_count": null,
      "outputs": [
        {
          "output_type": "stream",
          "text": [
            "First Line\n",
            "\n",
            "Second Line\n"
          ],
          "name": "stdout"
        }
      ]
    },
    {
      "cell_type": "code",
      "metadata": {
        "colab": {
          "base_uri": "https://localhost:8080/"
        },
        "id": "JKu4CvIgJj96",
        "outputId": "479d03ce-0878-4f82-f677-22c535ecb7f9"
      },
      "source": [
        "# Pertaining to the first point above\r\n",
        "for asdf in open('test.txt'):\r\n",
        "    print(asdf)"
      ],
      "execution_count": null,
      "outputs": [
        {
          "output_type": "stream",
          "text": [
            "First Line\n",
            "\n",
            "Second Line\n"
          ],
          "name": "stdout"
        }
      ]
    },
    {
      "cell_type": "markdown",
      "metadata": {
        "id": "KZdXH0PeJodh"
      },
      "source": [
        "StringIO"
      ]
    },
    {
      "cell_type": "code",
      "metadata": {
        "id": "CKVUDa9uJpSA"
      },
      "source": [
        "from io import StringIO"
      ],
      "execution_count": null,
      "outputs": []
    },
    {
      "cell_type": "code",
      "metadata": {
        "id": "q94wZtjQJuHs"
      },
      "source": [
        "# Arbitrary String\r\n",
        "message = 'This is just a normal string.'"
      ],
      "execution_count": null,
      "outputs": []
    },
    {
      "cell_type": "code",
      "metadata": {
        "id": "knebtZ_BJwiX"
      },
      "source": [
        "# Use StringIO method to set as file object\r\n",
        "f = StringIO(message)"
      ],
      "execution_count": null,
      "outputs": []
    },
    {
      "cell_type": "code",
      "metadata": {
        "colab": {
          "base_uri": "https://localhost:8080/",
          "height": 35
        },
        "id": "fRIRklEEJzlL",
        "outputId": "617f32ef-1673-4233-8300-9b6238d79bce"
      },
      "source": [
        "f.read()"
      ],
      "execution_count": null,
      "outputs": [
        {
          "output_type": "execute_result",
          "data": {
            "application/vnd.google.colaboratory.intrinsic+json": {
              "type": "string"
            },
            "text/plain": [
              "'This is just a normal string.'"
            ]
          },
          "metadata": {
            "tags": []
          },
          "execution_count": 26
        }
      ]
    },
    {
      "cell_type": "markdown",
      "metadata": {
        "id": "0J76BFcJJ2X_"
      },
      "source": [
        "We can also write to it"
      ]
    },
    {
      "cell_type": "code",
      "metadata": {
        "colab": {
          "base_uri": "https://localhost:8080/"
        },
        "id": "tGayXweIJ29k",
        "outputId": "19f4c23b-df69-42b2-823a-4d1e395ac65c"
      },
      "source": [
        "f.write(' Second line written to file like object')"
      ],
      "execution_count": null,
      "outputs": [
        {
          "output_type": "execute_result",
          "data": {
            "text/plain": [
              "40"
            ]
          },
          "metadata": {
            "tags": []
          },
          "execution_count": 27
        }
      ]
    },
    {
      "cell_type": "code",
      "metadata": {
        "colab": {
          "base_uri": "https://localhost:8080/"
        },
        "id": "Je_X_tmJJ8D2",
        "outputId": "cf24c773-aef9-4fe2-a530-af1b8d7d36a7"
      },
      "source": [
        "# Reset cursor just like you would a file\r\n",
        "f.seek(0)"
      ],
      "execution_count": null,
      "outputs": [
        {
          "output_type": "execute_result",
          "data": {
            "text/plain": [
              "0"
            ]
          },
          "metadata": {
            "tags": []
          },
          "execution_count": 28
        }
      ]
    },
    {
      "cell_type": "code",
      "metadata": {
        "id": "rD7LtM7zJ_oE",
        "colab": {
          "base_uri": "https://localhost:8080/",
          "height": 35
        },
        "outputId": "2d9369ac-e29c-47f4-9346-95f6ebacd67c"
      },
      "source": [
        "# Read again\r\n",
        "f.read()"
      ],
      "execution_count": null,
      "outputs": [
        {
          "output_type": "execute_result",
          "data": {
            "application/vnd.google.colaboratory.intrinsic+json": {
              "type": "string"
            },
            "text/plain": [
              "'This is just a normal string. Second line written to file like object'"
            ]
          },
          "metadata": {
            "tags": []
          },
          "execution_count": 29
        }
      ]
    }
  ]
}