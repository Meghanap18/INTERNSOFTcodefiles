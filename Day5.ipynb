{
  "nbformat": 4,
  "nbformat_minor": 0,
  "metadata": {
    "colab": {
      "name": "day5.ipynb",
      "provenance": [],
      "include_colab_link": true
    },
    "kernelspec": {
      "name": "python3",
      "display_name": "Python 3"
    }
  },
  "cells": [
    {
      "cell_type": "markdown",
      "metadata": {
        "id": "view-in-github",
        "colab_type": "text"
      },
      "source": [
        "<a href=\"https://colab.research.google.com/github/Meghanap18/INTERNSOFTcodefiles/blob/main/Day5.ipynb\" target=\"_parent\"><img src=\"https://colab.research.google.com/assets/colab-badge.svg\" alt=\"Open In Colab\"/></a>"
      ]
    },
    {
      "cell_type": "markdown",
      "metadata": {
        "id": "1pZY7e1dLsrp"
      },
      "source": [
        "Modules and Packages"
      ]
    },
    {
      "cell_type": "code",
      "metadata": {
        "id": "Dys7j9l2LeVM"
      },
      "source": [
        "# import the library\r\n",
        "import math"
      ],
      "execution_count": null,
      "outputs": []
    },
    {
      "cell_type": "code",
      "metadata": {
        "colab": {
          "base_uri": "https://localhost:8080/"
        },
        "id": "t1OlHYXKL1lv",
        "outputId": "66f23148-de69-4aa2-f4b9-329d53ca2604"
      },
      "source": [
        "# use it (ceiling rounding)\r\n",
        "math.ceil(2.4)"
      ],
      "execution_count": null,
      "outputs": [
        {
          "output_type": "execute_result",
          "data": {
            "text/plain": [
              "3"
            ]
          },
          "metadata": {
            "tags": []
          },
          "execution_count": 2
        }
      ]
    },
    {
      "cell_type": "code",
      "metadata": {
        "colab": {
          "base_uri": "https://localhost:8080/"
        },
        "id": "2y90xDhNL6M2",
        "outputId": "ec6b65a9-1838-4c78-8f7d-f229b45457f8"
      },
      "source": [
        "print(dir(math))"
      ],
      "execution_count": null,
      "outputs": [
        {
          "output_type": "stream",
          "text": [
            "['__doc__', '__loader__', '__name__', '__package__', '__spec__', 'acos', 'acosh', 'asin', 'asinh', 'atan', 'atan2', 'atanh', 'ceil', 'copysign', 'cos', 'cosh', 'degrees', 'e', 'erf', 'erfc', 'exp', 'expm1', 'fabs', 'factorial', 'floor', 'fmod', 'frexp', 'fsum', 'gamma', 'gcd', 'hypot', 'inf', 'isclose', 'isfinite', 'isinf', 'isnan', 'ldexp', 'lgamma', 'log', 'log10', 'log1p', 'log2', 'modf', 'nan', 'pi', 'pow', 'radians', 'sin', 'sinh', 'sqrt', 'tan', 'tanh', 'tau', 'trunc']\n"
          ],
          "name": "stdout"
        }
      ]
    },
    {
      "cell_type": "code",
      "metadata": {
        "colab": {
          "base_uri": "https://localhost:8080/"
        },
        "id": "WSIW24QBMES5",
        "outputId": "06dc1a91-f868-4c1f-b20a-d5a456815d7d"
      },
      "source": [
        "\r\n",
        "help(math.ceil)"
      ],
      "execution_count": null,
      "outputs": [
        {
          "output_type": "stream",
          "text": [
            "Help on built-in function ceil in module math:\n",
            "\n",
            "ceil(...)\n",
            "    ceil(x)\n",
            "    \n",
            "    Return the ceiling of x as an Integral.\n",
            "    This is the smallest integer >= x.\n",
            "\n"
          ],
          "name": "stdout"
        }
      ]
    },
    {
      "cell_type": "markdown",
      "metadata": {
        "id": "yEHFU3COMhfA"
      },
      "source": [
        "Writing packages"
      ]
    },
    {
      "cell_type": "code",
      "metadata": {
        "colab": {
          "base_uri": "https://localhost:8080/",
          "height": 322
        },
        "id": "ppdgWXBMMgKX",
        "outputId": "0e8208b7-a6c4-427a-a15c-d5687788b75c"
      },
      "source": [
        "# Just an example, this won't work\r\n",
        "import foo.bar"
      ],
      "execution_count": null,
      "outputs": [
        {
          "output_type": "error",
          "ename": "ModuleNotFoundError",
          "evalue": "ignored",
          "traceback": [
            "\u001b[0;31m---------------------------------------------------------------------------\u001b[0m",
            "\u001b[0;31mModuleNotFoundError\u001b[0m                       Traceback (most recent call last)",
            "\u001b[0;32m<ipython-input-5-0ab3de8fa44b>\u001b[0m in \u001b[0;36m<module>\u001b[0;34m()\u001b[0m\n\u001b[1;32m      1\u001b[0m \u001b[0;31m# Just an example, this won't work\u001b[0m\u001b[0;34m\u001b[0m\u001b[0;34m\u001b[0m\u001b[0;34m\u001b[0m\u001b[0m\n\u001b[0;32m----> 2\u001b[0;31m \u001b[0;32mimport\u001b[0m \u001b[0mfoo\u001b[0m\u001b[0;34m.\u001b[0m\u001b[0mbar\u001b[0m\u001b[0;34m\u001b[0m\u001b[0;34m\u001b[0m\u001b[0m\n\u001b[0m",
            "\u001b[0;31mModuleNotFoundError\u001b[0m: No module named 'foo'",
            "",
            "\u001b[0;31m---------------------------------------------------------------------------\u001b[0;32m\nNOTE: If your import is failing due to a missing package, you can\nmanually install dependencies using either !pip or !apt.\n\nTo view examples of installing some common dependencies, click the\n\"Open Examples\" button below.\n\u001b[0;31m---------------------------------------------------------------------------\u001b[0m\n"
          ]
        }
      ]
    },
    {
      "cell_type": "code",
      "metadata": {
        "colab": {
          "base_uri": "https://localhost:8080/",
          "height": 322
        },
        "id": "70kKmQIiMpf6",
        "outputId": "2ebebe5f-ae76-4434-8425-dd29a935bedc"
      },
      "source": [
        "# OR could do it this way\r\n",
        "from foo import bar"
      ],
      "execution_count": null,
      "outputs": [
        {
          "output_type": "error",
          "ename": "ModuleNotFoundError",
          "evalue": "ignored",
          "traceback": [
            "\u001b[0;31m---------------------------------------------------------------------------\u001b[0m",
            "\u001b[0;31mModuleNotFoundError\u001b[0m                       Traceback (most recent call last)",
            "\u001b[0;32m<ipython-input-6-dc56cf554081>\u001b[0m in \u001b[0;36m<module>\u001b[0;34m()\u001b[0m\n\u001b[1;32m      1\u001b[0m \u001b[0;31m# OR could do it this way\u001b[0m\u001b[0;34m\u001b[0m\u001b[0;34m\u001b[0m\u001b[0;34m\u001b[0m\u001b[0m\n\u001b[0;32m----> 2\u001b[0;31m \u001b[0;32mfrom\u001b[0m \u001b[0mfoo\u001b[0m \u001b[0;32mimport\u001b[0m \u001b[0mbar\u001b[0m\u001b[0;34m\u001b[0m\u001b[0;34m\u001b[0m\u001b[0m\n\u001b[0m",
            "\u001b[0;31mModuleNotFoundError\u001b[0m: No module named 'foo'",
            "",
            "\u001b[0;31m---------------------------------------------------------------------------\u001b[0;32m\nNOTE: If your import is failing due to a missing package, you can\nmanually install dependencies using either !pip or !apt.\n\nTo view examples of installing some common dependencies, click the\n\"Open Examples\" button below.\n\u001b[0;31m---------------------------------------------------------------------------\u001b[0m\n"
          ]
        }
      ]
    },
    {
      "cell_type": "code",
      "metadata": {
        "colab": {
          "base_uri": "https://localhost:8080/",
          "height": 131
        },
        "id": "5-0BdAeDMyNG",
        "outputId": "9bef2472-ead3-4d5e-cb1c-911bf1ad6bb4"
      },
      "source": [
        "__init__.py:\r\n",
        "\r\n",
        "__all__ = [\"bar\"]"
      ],
      "execution_count": null,
      "outputs": [
        {
          "output_type": "error",
          "ename": "SyntaxError",
          "evalue": "ignored",
          "traceback": [
            "\u001b[0;36m  File \u001b[0;32m\"<ipython-input-7-45d8bf1c62c0>\"\u001b[0;36m, line \u001b[0;32m1\u001b[0m\n\u001b[0;31m    __init__.py:\u001b[0m\n\u001b[0m                ^\u001b[0m\n\u001b[0;31mSyntaxError\u001b[0m\u001b[0;31m:\u001b[0m invalid syntax\n"
          ]
        }
      ]
    },
    {
      "cell_type": "markdown",
      "metadata": {
        "id": "RXIM2DsaM3JK"
      },
      "source": [
        "Errors and Exception Handling"
      ]
    },
    {
      "cell_type": "code",
      "metadata": {
        "colab": {
          "base_uri": "https://localhost:8080/",
          "height": 131
        },
        "id": "Aqq3tSZkM2Nz",
        "outputId": "7570534d-f247-47bf-92be-07eb9daac156"
      },
      "source": [
        "print('Hello)"
      ],
      "execution_count": null,
      "outputs": [
        {
          "output_type": "error",
          "ename": "SyntaxError",
          "evalue": "ignored",
          "traceback": [
            "\u001b[0;36m  File \u001b[0;32m\"<ipython-input-8-db8c9988558c>\"\u001b[0;36m, line \u001b[0;32m1\u001b[0m\n\u001b[0;31m    print('Hello)\u001b[0m\n\u001b[0m                 ^\u001b[0m\n\u001b[0;31mSyntaxError\u001b[0m\u001b[0;31m:\u001b[0m EOL while scanning string literal\n"
          ]
        }
      ]
    },
    {
      "cell_type": "markdown",
      "metadata": {
        "id": "Y5XdLBBGM-6n"
      },
      "source": [
        "try and except"
      ]
    },
    {
      "cell_type": "code",
      "metadata": {
        "colab": {
          "base_uri": "https://localhost:8080/"
        },
        "id": "-R8_6NHuM_uX",
        "outputId": "6ff2895e-54ac-4c5d-e533-480b6a1505d2"
      },
      "source": [
        "try:\r\n",
        "    f = open('testfile','w')\r\n",
        "    f.write('Test write this')\r\n",
        "except IOError:\r\n",
        "    # This will only check for an IOError exception and then execute this print statement\r\n",
        "   print(\"Error: Could not find file or read data\")\r\n",
        "else:\r\n",
        "   print(\"Content written successfully\")\r\n",
        "   f.close()"
      ],
      "execution_count": null,
      "outputs": [
        {
          "output_type": "stream",
          "text": [
            "Content written successfully\n"
          ],
          "name": "stdout"
        }
      ]
    },
    {
      "cell_type": "code",
      "metadata": {
        "colab": {
          "base_uri": "https://localhost:8080/"
        },
        "id": "293ZBTEeNRxD",
        "outputId": "83158550-681e-400c-c850-a4c4f357912b"
      },
      "source": [
        "try:\r\n",
        "    f = open('testfile','r')\r\n",
        "    f.write('Test write this')\r\n",
        "except IOError:\r\n",
        "    # This will only check for an IOError exception and then execute this print statement\r\n",
        "   print(\"Error: Could not find file or read data\")\r\n",
        "else:\r\n",
        "   print(\"Content written successfully\")\r\n",
        "   f.close()"
      ],
      "execution_count": null,
      "outputs": [
        {
          "output_type": "stream",
          "text": [
            "Error: Could not find file or read data\n"
          ],
          "name": "stdout"
        }
      ]
    },
    {
      "cell_type": "code",
      "metadata": {
        "colab": {
          "base_uri": "https://localhost:8080/"
        },
        "id": "lLNdiDNsNW1B",
        "outputId": "72c572f5-9dde-4454-d07e-6c2aa917a3a2"
      },
      "source": [
        "try:\r\n",
        "    f = open('testfile','w')\r\n",
        "    f.write('Test write this')\r\n",
        "except:\r\n",
        "    # This will check for any exception and then execute this print statement\r\n",
        "   print(\"Error: Could not find file or read data\")\r\n",
        "else:\r\n",
        "   print(\"Content written successfully\")\r\n",
        "   f.close()"
      ],
      "execution_count": null,
      "outputs": [
        {
          "output_type": "stream",
          "text": [
            "Content written successfully\n"
          ],
          "name": "stdout"
        }
      ]
    },
    {
      "cell_type": "markdown",
      "metadata": {
        "id": "RBZXrS01NbDK"
      },
      "source": [
        "finally"
      ]
    },
    {
      "cell_type": "code",
      "metadata": {
        "colab": {
          "base_uri": "https://localhost:8080/"
        },
        "id": "adZMuEgaNbhO",
        "outputId": "957bd800-2dba-4ca1-ea33-81af9c515fcf"
      },
      "source": [
        "try:\r\n",
        "   f = open(\"testfile\", \"w\")\r\n",
        "   f.write(\"Test write statement\")\r\n",
        "finally:\r\n",
        "   print(\"Always execute finally code blocks\")"
      ],
      "execution_count": null,
      "outputs": [
        {
          "output_type": "stream",
          "text": [
            "Always execute finally code blocks\n"
          ],
          "name": "stdout"
        }
      ]
    },
    {
      "cell_type": "code",
      "metadata": {
        "id": "VDsFvHhwNh6E"
      },
      "source": [
        "def askint():\r\n",
        "        try:\r\n",
        "            val = int(input(\"Please enter an integer: \"))\r\n",
        "        except:\r\n",
        "            print(\"Looks like you did not enter an integer!\")\r\n",
        "            \r\n",
        "        finally:\r\n",
        "            print(\"Finally, I executed!\")\r\n",
        "        print(val)    "
      ],
      "execution_count": null,
      "outputs": []
    },
    {
      "cell_type": "code",
      "metadata": {
        "colab": {
          "base_uri": "https://localhost:8080/"
        },
        "id": "oU6103dyNlbz",
        "outputId": "e339e86c-52be-4d2b-a13d-e9838933ba11"
      },
      "source": [
        "askint()"
      ],
      "execution_count": null,
      "outputs": [
        {
          "output_type": "stream",
          "text": [
            "Please enter an integer: 12\n",
            "Finally, I executed!\n",
            "12\n"
          ],
          "name": "stdout"
        }
      ]
    },
    {
      "cell_type": "code",
      "metadata": {
        "colab": {
          "base_uri": "https://localhost:8080/"
        },
        "id": "y7DJFE_dNsSc",
        "outputId": "dfdac1bf-1165-43e2-bc1d-26af47f6f354"
      },
      "source": [
        "askint()\r\n",
        "\r\n"
      ],
      "execution_count": null,
      "outputs": [
        {
          "output_type": "stream",
          "text": [
            "Please enter an integer: 123\n",
            "Finally, I executed!\n",
            "123\n"
          ],
          "name": "stdout"
        }
      ]
    },
    {
      "cell_type": "code",
      "metadata": {
        "id": "oOXhcYuqN2d5"
      },
      "source": [
        "def askint():\r\n",
        "        try:\r\n",
        "            val = int(input(\"Please enter an integer: \"))\r\n",
        "        except:\r\n",
        "            print(\"Looks like you did not enter an integer!\")\r\n",
        "            val = int(input(\"Try again-Please enter an integer: \"))\r\n",
        "        finally:\r\n",
        "            print(\"Finally, I executed!\")\r\n",
        "        print(val)"
      ],
      "execution_count": null,
      "outputs": []
    },
    {
      "cell_type": "code",
      "metadata": {
        "colab": {
          "base_uri": "https://localhost:8080/"
        },
        "id": "-a9OR7VZN6xB",
        "outputId": "dda83566-ff2d-4d4d-9c63-11ff053a798f"
      },
      "source": [
        "askint()"
      ],
      "execution_count": null,
      "outputs": [
        {
          "output_type": "stream",
          "text": [
            "Please enter an integer: str\n",
            "Looks like you did not enter an integer!\n",
            "Try again-Please enter an integer: 123\n",
            "Finally, I executed!\n",
            "123\n"
          ],
          "name": "stdout"
        }
      ]
    },
    {
      "cell_type": "code",
      "metadata": {
        "id": "tHnjlEawOHZ2"
      },
      "source": [
        "def askint():\r\n",
        "    while True:\r\n",
        "        try:\r\n",
        "            val = int(input(\"Please enter an integer: \"))\r\n",
        "        except:\r\n",
        "            print(\"Looks like you did not enter an integer!\")\r\n",
        "            continue\r\n",
        "        else:\r\n",
        "            print('Yep thats an integer!')\r\n",
        "            break\r\n",
        "        finally:\r\n",
        "            print(\"Finally, I executed!\")\r\n",
        "        print(val) "
      ],
      "execution_count": null,
      "outputs": []
    },
    {
      "cell_type": "code",
      "metadata": {
        "colab": {
          "base_uri": "https://localhost:8080/"
        },
        "id": "azWtOOyrOK1y",
        "outputId": "397a8b1b-85d8-445b-aea5-5216eeb876d9"
      },
      "source": [
        "\r\n",
        "askint()"
      ],
      "execution_count": null,
      "outputs": [
        {
          "output_type": "stream",
          "text": [
            "Please enter an integer: awd\n",
            "Looks like you did not enter an integer!\n",
            "Finally, I executed!\n",
            "Please enter an integer: wee\n",
            "Looks like you did not enter an integer!\n",
            "Finally, I executed!\n",
            "Please enter an integer: frged\n",
            "Looks like you did not enter an integer!\n",
            "Finally, I executed!\n",
            "Please enter an integer: 123\n",
            "Yep thats an integer!\n",
            "Finally, I executed!\n"
          ],
          "name": "stdout"
        }
      ]
    },
    {
      "cell_type": "markdown",
      "metadata": {
        "id": "4QEifRgvOZ7f"
      },
      "source": [
        "Database connectivity and operations using Python."
      ]
    },
    {
      "cell_type": "code",
      "metadata": {
        "colab": {
          "base_uri": "https://localhost:8080/"
        },
        "id": "mfeGBWxfOawj",
        "outputId": "331306eb-490b-4ef4-e70e-b3d1ac7b275b"
      },
      "source": [
        "#!/usr/bin/python\r\n",
        "\r\n",
        "import sqlite3\r\n",
        "#connecting with the database.\r\n",
        "\r\n",
        "db = sqlite3.connect(\"my_database1.db\")\r\n",
        "\r\n",
        "# Drop table if it already exist using execute() method.\r\n",
        "db.execute(\"drop table if exists grades1\")\r\n",
        "\r\n",
        "# Create table as per requirement\r\n",
        "db.execute(\"create table grades1(id int, name text, score int)\")\r\n",
        "\r\n",
        "#inserting values inside the created table\r\n",
        "db.execute(\"insert into grades1(id, name, score) values(101, 'John',99 )\")\r\n",
        "db.execute(\"insert into grades1(id, name, score) values(102, 'Gary',90 )\")\r\n",
        "db.execute(\"insert into grades1(id, name, score) values(103, 'James', 80 )\")\r\n",
        "db.execute(\"insert into grades1(id, name, score) values(104, 'Cathy', 85 )\")\r\n",
        "db.execute(\"insert into grades1(id, name, score) values(105, 'Kris',95 )\")"
      ],
      "execution_count": null,
      "outputs": [
        {
          "output_type": "execute_result",
          "data": {
            "text/plain": [
              "<sqlite3.Cursor at 0x7fbed34ac030>"
            ]
          },
          "metadata": {
            "tags": []
          },
          "execution_count": 23
        }
      ]
    },
    {
      "cell_type": "code",
      "metadata": {
        "id": "JETXderZOr57"
      },
      "source": [
        "db.commit()"
      ],
      "execution_count": null,
      "outputs": []
    },
    {
      "cell_type": "code",
      "metadata": {
        "colab": {
          "base_uri": "https://localhost:8080/"
        },
        "id": "zHiodvqlOvq-",
        "outputId": "6c857d39-6435-41a6-8978-45d3023191c6"
      },
      "source": [
        "results = db.execute(\"select * from grades1 order by id\")\r\n",
        "for row in results:\r\n",
        "    print(row)\r\n",
        "print(\"-\" * 60 )"
      ],
      "execution_count": null,
      "outputs": [
        {
          "output_type": "stream",
          "text": [
            "(101, 'John', 99)\n",
            "(102, 'Gary', 90)\n",
            "(103, 'James', 80)\n",
            "(104, 'Cathy', 85)\n",
            "(105, 'Kris', 95)\n",
            "------------------------------------------------------------\n"
          ],
          "name": "stdout"
        }
      ]
    },
    {
      "cell_type": "code",
      "metadata": {
        "colab": {
          "base_uri": "https://localhost:8080/"
        },
        "id": "YycVH2arPXCQ",
        "outputId": "87e94121-de11-4747-b6c6-157a5f0661ee"
      },
      "source": [
        "results = db.execute(\"select * from grades1 where name = 'Gary' \")\r\n",
        "for row in results:\r\n",
        "    print(row)\r\n",
        "print(\"-\" * 60 )"
      ],
      "execution_count": null,
      "outputs": [
        {
          "output_type": "stream",
          "text": [
            "(102, 'Gary', 90)\n",
            "------------------------------------------------------------\n"
          ],
          "name": "stdout"
        }
      ]
    },
    {
      "cell_type": "code",
      "metadata": {
        "colab": {
          "base_uri": "https://localhost:8080/"
        },
        "id": "R-GbE26xPcKy",
        "outputId": "4668af49-8986-414c-ae9e-3e1df83e72fe"
      },
      "source": [
        "results = db.execute(\"select * from grades1 where score >= 90 \")\r\n",
        "for row in results:\r\n",
        "    print(row)\r\n",
        "print(\"-\" * 60 )"
      ],
      "execution_count": null,
      "outputs": [
        {
          "output_type": "stream",
          "text": [
            "(101, 'John', 99)\n",
            "(102, 'Gary', 90)\n",
            "(105, 'Kris', 95)\n",
            "------------------------------------------------------------\n"
          ],
          "name": "stdout"
        }
      ]
    },
    {
      "cell_type": "code",
      "metadata": {
        "colab": {
          "base_uri": "https://localhost:8080/"
        },
        "id": "iUGfzHtoPfMf",
        "outputId": "7ef3cadc-f787-4a92-c378-00668054318b"
      },
      "source": [
        "results = db.execute(\"select name, score from grades1 order by score desc \")\r\n",
        "for row in results:\r\n",
        "    print(row)\r\n",
        "print(\"-\" * 60 )"
      ],
      "execution_count": null,
      "outputs": [
        {
          "output_type": "stream",
          "text": [
            "('John', 99)\n",
            "('Kris', 95)\n",
            "('Gary', 90)\n",
            "('Cathy', 85)\n",
            "('James', 80)\n",
            "------------------------------------------------------------\n"
          ],
          "name": "stdout"
        }
      ]
    },
    {
      "cell_type": "code",
      "metadata": {
        "colab": {
          "base_uri": "https://localhost:8080/"
        },
        "id": "aPwKSwWTPh9r",
        "outputId": "e7bec912-23e9-4ccc-eb50-a3b0fd773de3"
      },
      "source": [
        "results = db.execute(\"select name, score from grades1 order by score\")\r\n",
        "for row in results:\r\n",
        "    print(row)\r\n",
        "print(\"-\" * 60 )"
      ],
      "execution_count": null,
      "outputs": [
        {
          "output_type": "stream",
          "text": [
            "('James', 80)\n",
            "('Cathy', 85)\n",
            "('Gary', 90)\n",
            "('Kris', 95)\n",
            "('John', 99)\n",
            "------------------------------------------------------------\n"
          ],
          "name": "stdout"
        }
      ]
    },
    {
      "cell_type": "code",
      "metadata": {
        "colab": {
          "base_uri": "https://localhost:8080/"
        },
        "id": "LL7Eob72Pk34",
        "outputId": "84ebb8b7-e4f4-4e8f-cd5a-7dc9c8f166f0"
      },
      "source": [
        "results = db.execute(\"select name, score from grades1 order by score\")\r\n",
        "for row in results:\r\n",
        "    print(row)"
      ],
      "execution_count": null,
      "outputs": [
        {
          "output_type": "stream",
          "text": [
            "('James', 80)\n",
            "('Cathy', 85)\n",
            "('Gary', 90)\n",
            "('Kris', 95)\n",
            "('John', 99)\n"
          ],
          "name": "stdout"
        }
      ]
    }
  ]
}